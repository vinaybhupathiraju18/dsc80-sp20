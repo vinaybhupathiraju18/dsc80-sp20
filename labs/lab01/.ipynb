{
 "cells": [
  {
   "cell_type": "markdown",
   "metadata": {},
   "source": [
    "# DSC 80: Lab 01\n",
    "\n",
    "### Due Date: Tuesday April 07, Midnight (11:59 PM)"
   ]
  },
  {
   "cell_type": "markdown",
   "metadata": {},
   "source": [
    "## Zoom Lab Hours\n",
    "- Follow instructions on this link: https://docs.google.com/document/d/16qZpPSYhxwQDMcn-lGQjC-J-PzppLevv_mANLt2ko8g/edit "
   ]
  },
  {
   "cell_type": "markdown",
   "metadata": {},
   "source": [
    "## Instructions\n",
    "Much like in DSC 10, this Jupyter Notebook contains the statements of the problems and provides code and markdown cells to display your answers to the problems. Unlike DSC 10, the notebook is *only* for displaying a readable version of your final answers. The coding work will be developed in an accompanying `lab01.py` file, that will be imported into the current notebook.\n",
    "\n",
    "Labs and programming assignments will be graded in (at most) two ways:\n",
    "1. The functions and classes in the accompanying python file will be tested (a la DSC 20),\n",
    "2. The notebook will be graded (for graphs and free response questions).\n",
    "\n",
    "**Do not change the function names in the `*.py` file**\n",
    "- The functions in the `*.py` file are how your assignment is graded, and they are graded by their name. The dictionary at the end of the file (`GRADED FUNCTIONS`) contains the \"grading list\". The final function in the file allows your doctests to check that all the necessary functions exist.\n",
    "- If you changed something you weren't supposed to, just use git to revert!\n",
    "\n",
    "**Tips for working in the Notebook**:\n",
    "- The notebooks serve to present you the questions and give you a place to present your results for later review.\n",
    "- The notebook on *lab assignments* are not graded (only the `.py` file).\n",
    "- Notebooks for PAs will serve as a final report for the assignment, and contain conclusions and answers to open ended questions that are graded.\n",
    "- The notebook serves as a nice environment for 'pre-development' and experimentation before designing your function in your `.py` file.\n",
    "\n",
    "**Tips for developing in the .py file**:\n",
    "- Do not change the function names in the starter code; grading is done using these function names.\n",
    "- Do not change the docstrings in the functions. These are there to tell you if your work is on the right track!\n",
    "- You are encouraged to write your own additional functions to solve the lab! \n",
    "    - Developing in python usually consists of larger files, with many short functions.\n",
    "    - You may write your other functions in an additional `.py` file that you import in `lab01.py` (much like we do in the notebook).\n",
    "- Always document your code!"
   ]
  },
  {
   "cell_type": "markdown",
   "metadata": {},
   "source": [
    "### Importing code from `lab**.py`\n",
    "\n",
    "* We import our `.py` file that's contained in the same directory as this notebook.\n",
    "* We use the `autoreload` notebook extension to make changes to our `lab**.py` file immediately available in our notebook. Without this extension, we would need to restart the notebook kernel to see any changes to `lab**.py` in the notebook.\n",
    "    - `autoreload` is necessary because, upon import, `lab**.py` is compiled to bytecode (in the directory `__pycache__`). Subsequent imports of `lab**` merely import the existing compiled python."
   ]
  },
  {
   "cell_type": "code",
   "execution_count": 1,
   "metadata": {},
   "outputs": [],
   "source": [
    "%load_ext autoreload\n",
    "%autoreload 2"
   ]
  },
  {
   "cell_type": "code",
   "execution_count": 2,
   "metadata": {},
   "outputs": [],
   "source": [
    "import lab01 as lab"
   ]
  },
  {
   "cell_type": "code",
   "execution_count": 3,
   "metadata": {},
   "outputs": [],
   "source": [
    "import os\n",
    "import pandas as pd\n",
    "import numpy as np"
   ]
  },
  {
   "cell_type": "markdown",
   "metadata": {},
   "source": [
    "## Python Basics"
   ]
  },
  {
   "cell_type": "markdown",
   "metadata": {},
   "source": [
    "---\n",
    "**Question 0 (EXAMPLE):**\n",
    "\n",
    "Write a function that takes in a possibly empty list of integers and:\n",
    "* Returns `True` if there exist two adjacent list elements that are consecutive integers.\n",
    "* Otherwise, returns `False`.\n",
    "\n",
    "For example, because `9` is next to `8`:\n",
    "```\n",
    ">>> lab.consecutive_ints([5,3,6,4,9,8])\n",
    "True\n",
    "```\n",
    "Whereas:\n",
    "```\n",
    ">>> lab.consecutive_ints([1,3,5,7,9])\n",
    "False\n",
    "```\n",
    "\n",
    "*Note*: This question is done for you, to demonstrate a completed homework problem."
   ]
  },
  {
   "cell_type": "code",
   "execution_count": 4,
   "metadata": {},
   "outputs": [],
   "source": [
    "def consecutive_ints(ints):\n",
    "    \"\"\"\n",
    "    consecutive_ints tests whether a list contains two \n",
    "    adjacent elements that are consecutive integers.\n",
    "\n",
    "    :param ints: a list of integers\n",
    "    :returns: a boolean value if ints contains two \n",
    "    adjacent elements that are consecutive integers.\n",
    "\n",
    "    :Example:\n",
    "    >>> consecutive_ints([5,3,6,4,9,8])\n",
    "    True\n",
    "    >>> consecutive_ints([1,3,5,7,9])\n",
    "    False\n",
    "    \"\"\"\n",
    "\n",
    "    if len(ints) == 0:\n",
    "        return False\n",
    "\n",
    "    for k in range(len(ints) - 1):\n",
    "        diff = abs(ints[k] - ints[k+1])\n",
    "        if diff == 1:\n",
    "            return True\n",
    "\n",
    "    return False\n"
   ]
  },
  {
   "cell_type": "code",
   "execution_count": 5,
   "metadata": {},
   "outputs": [],
   "source": [
    "# Add more cells if you'd like!"
   ]
  },
  {
   "cell_type": "markdown",
   "metadata": {},
   "source": [
    "Test your code in two ways:\n",
    "1. Run the cell below to test your code. You should also copy the cell and change the input to test further (i.e. write your own doctests)! Does it work for corner cases? Real-world data is **very messy** and you should expect your data processing code to break without thorough testing!\n",
    "2. Run doctests on `lab01.py` by running the following command on the commandline:\n",
    "```\n",
    "python -m doctest lab01.py\n",
    "```\n",
    "If the doctests pass, then there should be *no* output."
   ]
  },
  {
   "cell_type": "code",
   "execution_count": 6,
   "metadata": {},
   "outputs": [
    {
     "data": {
      "text/plain": [
       "True"
      ]
     },
     "execution_count": 6,
     "metadata": {},
     "output_type": "execute_result"
    }
   ],
   "source": [
    "# test your code!\n",
    "lab.consecutive_ints([1,3,2,4])"
   ]
  },
  {
   "cell_type": "code",
   "execution_count": 7,
   "metadata": {},
   "outputs": [
    {
     "data": {
      "text/plain": [
       "False"
      ]
     },
     "execution_count": 7,
     "metadata": {},
     "output_type": "execute_result"
    }
   ],
   "source": [
    "lab.consecutive_ints([0])"
   ]
  },
  {
   "cell_type": "code",
   "execution_count": 8,
   "metadata": {},
   "outputs": [
    {
     "data": {
      "text/plain": [
       "False"
      ]
     },
     "execution_count": 8,
     "metadata": {},
     "output_type": "execute_result"
    }
   ],
   "source": [
    "lab.consecutive_ints([])"
   ]
  },
  {
   "cell_type": "code",
   "execution_count": null,
   "metadata": {},
   "outputs": [],
   "source": []
  },
  {
   "cell_type": "markdown",
   "metadata": {},
   "source": [
    "---\n",
    "**Question 1 (median):**\n",
    "\n",
    "Write a function called *median* that takes a non-empty list of numbers, returning the median element of the list. If the list has even length, it should return the mean of the two elements in the middle. Do not use any imported libraries for this question; you may use any built-in function.\n"
   ]
  },
  {
   "cell_type": "code",
   "execution_count": 9,
   "metadata": {},
   "outputs": [],
   "source": [
    "def median(nums):\n",
    "    \"\"\"\n",
    "    median takes a non-empty list of numbers,\n",
    "    returning the median element of the list.\n",
    "    If the list has even length, it should return\n",
    "    the mean of the two elements in the middle.\n",
    "\n",
    "    :param nums: a non-empty list of numbers.\n",
    "    :returns: the median of the list.\n",
    "    \n",
    "    :Example:\n",
    "    >>> median([6, 5, 4, 3, 2]) == 4\n",
    "    True\n",
    "    >>> median([50, 20, 15, 40]) == 30\n",
    "    True\n",
    "    >>> median([1, 2, 3, 4]) == 2.5\n",
    "    True\n",
    "    \"\"\"\n",
    "    \n",
    "    size = len(nums)\n",
    "    nums.sort()\n",
    "    \n",
    "    if size % 2 == 1:\n",
    "        med = nums[size // 2]\n",
    "    elif size % 2 == 0:\n",
    "        med1 = nums[size // 2]\n",
    "        med2 = nums[(size // 2) - 1]\n",
    "        med = (med1 + med2) / 2\n",
    "    \n",
    "    return med"
   ]
  },
  {
   "cell_type": "code",
   "execution_count": 10,
   "metadata": {},
   "outputs": [],
   "source": [
    "test1 = [6, 5, 4, 3, 2]"
   ]
  },
  {
   "cell_type": "code",
   "execution_count": 11,
   "metadata": {},
   "outputs": [
    {
     "name": "stdout",
     "output_type": "stream",
     "text": [
      "2\n"
     ]
    }
   ],
   "source": [
    "size = len(test1)\n",
    "size\n",
    "print(size//2)"
   ]
  },
  {
   "cell_type": "code",
   "execution_count": 12,
   "metadata": {},
   "outputs": [
    {
     "data": {
      "text/plain": [
       "True"
      ]
     },
     "execution_count": 12,
     "metadata": {},
     "output_type": "execute_result"
    }
   ],
   "source": [
    "median([1, 2, 3, 4]) == 2.5"
   ]
  },
  {
   "cell_type": "code",
   "execution_count": 13,
   "metadata": {},
   "outputs": [
    {
     "data": {
      "text/plain": [
       "Ellipsis"
      ]
     },
     "execution_count": 13,
     "metadata": {},
     "output_type": "execute_result"
    }
   ],
   "source": [
    "# Try this\n",
    "lab.median([0, -1, 1, 100])"
   ]
  },
  {
   "cell_type": "markdown",
   "metadata": {},
   "source": [
    "---\n",
    "**Question 2 (List Distances):**\n",
    "\n",
    "Similar to Question 0, write a function that takes in a possibly empty list of integers and:\n",
    "* Returns `True` if there exist two list elements $i$ places apart, whose distance as integers is also $i$.\n",
    "* Otherwise, returns `False`.\n",
    "\n",
    "Assume your inputs tend to satisfy the condition, and the pair(s) saitifying the condition tend to be close together; design your function to run faster for this case. (Optimizing your code for an assumed distribution of incoming data is very common in data science).\n",
    "\n",
    "For example, because `3` and (the second) `5` are two places apart, and $|3-5| = 2$:\n",
    "```\n",
    ">>> lab.same_diff_ints([5,3,1,5,9,8])\n",
    "True\n",
    "```\n",
    "Whereas:\n",
    "```\n",
    ">>> lab.same_diff_ints([1,3,5,7,9])\n",
    "False\n",
    "```\n",
    "\n",
    "*Note*: Make sure to define some extreme test cases. Use the `%time` command to time your function!"
   ]
  },
  {
   "cell_type": "code",
   "execution_count": 99,
   "metadata": {},
   "outputs": [],
   "source": [
    "def same_diff_ints(ints):\n",
    "    \"\"\"\n",
    "    same_diff_ints tests whether a list contains\n",
    "    two list elements i places apart, whose distance\n",
    "    as integers is also i.\n",
    "\n",
    "    :param ints: a list of integers\n",
    "    :returns: a boolean value if ints contains two\n",
    "    elements as described above.\n",
    "\n",
    "    :Example:\n",
    "    >>> same_diff_ints([5,3,1,5,9,8])\n",
    "    True\n",
    "    >>> same_diff_ints([1,3,5,7,9])\n",
    "    False\n",
    "    \"\"\"\n",
    "    size = len(ints)\n",
    "    \n",
    "    for i in range(0, size):\n",
    "        for j in range(i + 1, size):\n",
    "            diff_idx = abs(i - j)\n",
    "            diff_vals = abs(ints[i] - ints[j])\n",
    "            if diff_idx == diff_vals:\n",
    "                return True\n",
    "            \n",
    "    return False"
   ]
  },
  {
   "cell_type": "code",
   "execution_count": 100,
   "metadata": {},
   "outputs": [
    {
     "data": {
      "text/plain": [
       "True"
      ]
     },
     "execution_count": 100,
     "metadata": {},
     "output_type": "execute_result"
    }
   ],
   "source": [
    "same_diff_ints([5,3,1,5,9,8])"
   ]
  },
  {
   "cell_type": "code",
   "execution_count": 101,
   "metadata": {},
   "outputs": [
    {
     "data": {
      "text/plain": [
       "False"
      ]
     },
     "execution_count": 101,
     "metadata": {},
     "output_type": "execute_result"
    }
   ],
   "source": [
    "same_diff_ints([1,3,5,7,9])"
   ]
  },
  {
   "cell_type": "code",
   "execution_count": 102,
   "metadata": {},
   "outputs": [
    {
     "name": "stdout",
     "output_type": "stream",
     "text": [
      "CPU times: user 12 µs, sys: 1 µs, total: 13 µs\n",
      "Wall time: 41.2 µs\n"
     ]
    },
    {
     "data": {
      "text/plain": [
       "True"
      ]
     },
     "execution_count": 102,
     "metadata": {},
     "output_type": "execute_result"
    }
   ],
   "source": [
    "%time lab.same_diff_ints([5,3,1,5,9,8])"
   ]
  },
  {
   "cell_type": "markdown",
   "metadata": {},
   "source": [
    "---\n",
    "## Strings and Files\n",
    "\n",
    "The following questions will help you (re)learn the basics of working with strings and reading data from files (which are read in as strings, by default)."
   ]
  },
  {
   "cell_type": "markdown",
   "metadata": {},
   "source": [
    "---\n",
    "**Question 3 (Prefixes):**\n",
    "\n",
    "Write a function `prefixes` that takes a string and returns a string of every consecutive prefix of the input string. For example, `prefixes('Data!')` should return `'DDaDatDataData!'`.  (See the doctests for more examples).\n",
    "\n",
    "Recall that [strings may be sliced](https://docs.python.org/3/tutorial/introduction.html#strings), like lists.\n"
   ]
  },
  {
   "cell_type": "code",
   "execution_count": 18,
   "metadata": {},
   "outputs": [],
   "source": [
    "def prefixes(s):\n",
    "    \"\"\"\n",
    "    prefixes returns a string of every \n",
    "    consecutive prefix of the input string.\n",
    "\n",
    "    :param s: a string.\n",
    "    :returns: a string of every consecutive prefix of s.\n",
    "\n",
    "    :Example:\n",
    "    >>> prefixes('Data!')\n",
    "    'DDaDatDataData!'\n",
    "    >>> prefixes('Marina')\n",
    "    'MMaMarMariMarinMarina'\n",
    "    >>> prefixes('aaron')\n",
    "    'aaaaaraaroaaron'\n",
    "    \"\"\"\n",
    "\n",
    "    size = len(s)\n",
    "    word = s[0]\n",
    "    for i in range(1, size):\n",
    "        to_add = s[0:i+1]\n",
    "        word = word + to_add        \n",
    "        \n",
    "    return word"
   ]
  },
  {
   "cell_type": "code",
   "execution_count": 19,
   "metadata": {},
   "outputs": [
    {
     "data": {
      "text/plain": [
       "True"
      ]
     },
     "execution_count": 19,
     "metadata": {},
     "output_type": "execute_result"
    }
   ],
   "source": [
    "prefixes('Data!') == 'DDaDatDataData!'\n"
   ]
  },
  {
   "cell_type": "code",
   "execution_count": 20,
   "metadata": {},
   "outputs": [
    {
     "data": {
      "text/plain": [
       "True"
      ]
     },
     "execution_count": 20,
     "metadata": {},
     "output_type": "execute_result"
    }
   ],
   "source": [
    "#prefixes('Marina') == 'MMaMarMariMarinMarina'\n",
    "prefixes('aaron') == 'aaaaaraaroaaron'"
   ]
  },
  {
   "cell_type": "code",
   "execution_count": 21,
   "metadata": {},
   "outputs": [
    {
     "name": "stdout",
     "output_type": "stream",
     "text": [
      "D\n",
      "Da\n",
      "Dat\n",
      "Data\n",
      "Data!\n"
     ]
    },
    {
     "data": {
      "text/plain": [
       "'DDaDatDataData!'"
      ]
     },
     "execution_count": 21,
     "metadata": {},
     "output_type": "execute_result"
    }
   ],
   "source": [
    "text = 'Data!'\n",
    "s = len(text)\n",
    "word = text[0]\n",
    "print(word)\n",
    "for i in range(1, s):\n",
    "    to_add = text[0:i+1]\n",
    "    print(to_add)\n",
    "    word = word + to_add\n",
    "word"
   ]
  },
  {
   "cell_type": "markdown",
   "metadata": {},
   "source": [
    "---\n",
    "**Question 4 (Evens reversed):**\n",
    "\n",
    "Write a function `evens_reversed` that takes in a non-negative integer $N$ and returns a string containing all even integers from $1$ to $N$ (inclusive) in reversed order, separated by spaces. Additionally, [zero pad](https://www.tutorialspoint.com/python/string_zfill.htm) each integer, so that each has the same length."
   ]
  },
  {
   "cell_type": "code",
   "execution_count": 22,
   "metadata": {},
   "outputs": [],
   "source": [
    "def evens_reversed(N):\n",
    "    \"\"\"\n",
    "    evens_reversed returns a string containing \n",
    "    all even integers from  1  to  N  (inclusive)\n",
    "    in reversed order, separated by spaces. \n",
    "    Each integer is zero padded.\n",
    "\n",
    "    :param N: a non-negative integer.\n",
    "    :returns: a string containing all even integers \n",
    "    from 1 to N reversed, formatted as decsribed above.\n",
    "\n",
    "    :Example:\n",
    "    >>> evens_reversed(7)\n",
    "    '6 4 2'\n",
    "    >>> evens_reversed(10)\n",
    "    '10 08 06 04 02'\n",
    "    \"\"\"\n",
    "    reversed_list = ''\n",
    "    size = len(str(N))\n",
    "    \n",
    "    even_odd = N % 2\n",
    "    if even_odd == 1:\n",
    "        N = N - 1\n",
    "    \n",
    "    for i in range(N, 0, -2):\n",
    "        num = str(i)\n",
    "        diff = size - len(num)\n",
    "        for i in range(diff):\n",
    "            num = '0' + num\n",
    "        reversed_list = reversed_list + ' ' + num\n",
    "    \n",
    "    return reversed_list[1:]"
   ]
  },
  {
   "cell_type": "code",
   "execution_count": 23,
   "metadata": {},
   "outputs": [
    {
     "data": {
      "text/plain": [
       "'1000 0998 0996 0994 0992 0990 0988 0986 0984 0982 0980 0978 0976 0974 0972 0970 0968 0966 0964 0962 0960 0958 0956 0954 0952 0950 0948 0946 0944 0942 0940 0938 0936 0934 0932 0930 0928 0926 0924 0922 0920 0918 0916 0914 0912 0910 0908 0906 0904 0902 0900 0898 0896 0894 0892 0890 0888 0886 0884 0882 0880 0878 0876 0874 0872 0870 0868 0866 0864 0862 0860 0858 0856 0854 0852 0850 0848 0846 0844 0842 0840 0838 0836 0834 0832 0830 0828 0826 0824 0822 0820 0818 0816 0814 0812 0810 0808 0806 0804 0802 0800 0798 0796 0794 0792 0790 0788 0786 0784 0782 0780 0778 0776 0774 0772 0770 0768 0766 0764 0762 0760 0758 0756 0754 0752 0750 0748 0746 0744 0742 0740 0738 0736 0734 0732 0730 0728 0726 0724 0722 0720 0718 0716 0714 0712 0710 0708 0706 0704 0702 0700 0698 0696 0694 0692 0690 0688 0686 0684 0682 0680 0678 0676 0674 0672 0670 0668 0666 0664 0662 0660 0658 0656 0654 0652 0650 0648 0646 0644 0642 0640 0638 0636 0634 0632 0630 0628 0626 0624 0622 0620 0618 0616 0614 0612 0610 0608 0606 0604 0602 0600 0598 0596 0594 0592 0590 0588 0586 0584 0582 0580 0578 0576 0574 0572 0570 0568 0566 0564 0562 0560 0558 0556 0554 0552 0550 0548 0546 0544 0542 0540 0538 0536 0534 0532 0530 0528 0526 0524 0522 0520 0518 0516 0514 0512 0510 0508 0506 0504 0502 0500 0498 0496 0494 0492 0490 0488 0486 0484 0482 0480 0478 0476 0474 0472 0470 0468 0466 0464 0462 0460 0458 0456 0454 0452 0450 0448 0446 0444 0442 0440 0438 0436 0434 0432 0430 0428 0426 0424 0422 0420 0418 0416 0414 0412 0410 0408 0406 0404 0402 0400 0398 0396 0394 0392 0390 0388 0386 0384 0382 0380 0378 0376 0374 0372 0370 0368 0366 0364 0362 0360 0358 0356 0354 0352 0350 0348 0346 0344 0342 0340 0338 0336 0334 0332 0330 0328 0326 0324 0322 0320 0318 0316 0314 0312 0310 0308 0306 0304 0302 0300 0298 0296 0294 0292 0290 0288 0286 0284 0282 0280 0278 0276 0274 0272 0270 0268 0266 0264 0262 0260 0258 0256 0254 0252 0250 0248 0246 0244 0242 0240 0238 0236 0234 0232 0230 0228 0226 0224 0222 0220 0218 0216 0214 0212 0210 0208 0206 0204 0202 0200 0198 0196 0194 0192 0190 0188 0186 0184 0182 0180 0178 0176 0174 0172 0170 0168 0166 0164 0162 0160 0158 0156 0154 0152 0150 0148 0146 0144 0142 0140 0138 0136 0134 0132 0130 0128 0126 0124 0122 0120 0118 0116 0114 0112 0110 0108 0106 0104 0102 0100 0098 0096 0094 0092 0090 0088 0086 0084 0082 0080 0078 0076 0074 0072 0070 0068 0066 0064 0062 0060 0058 0056 0054 0052 0050 0048 0046 0044 0042 0040 0038 0036 0034 0032 0030 0028 0026 0024 0022 0020 0018 0016 0014 0012 0010 0008 0006 0004 0002'"
      ]
     },
     "execution_count": 23,
     "metadata": {},
     "output_type": "execute_result"
    }
   ],
   "source": [
    "evens_reversed(1000)"
   ]
  },
  {
   "cell_type": "markdown",
   "metadata": {},
   "source": [
    "---\n",
    "\n",
    "[Recall](https://docs.python.org/3/tutorial/inputoutput.html#reading-and-writing-files) that the built-in function `open` takes in a file path and returns *a file object* (sometimes called a *file handle*). Below are a few properties of file objects:\n",
    "\n",
    "* `open(path)` opens the file at location `path` for reading.\n",
    "* `open(path)` is an *iterable*, which contains successive lines of the file.\n",
    "* Once a file object is opened, after use it should be closed to avoid memory leaks. To ensure a file is closed once done, you should use a *context manager* as follows:\n",
    "```\n",
    "with open(path) as fh:\n",
    "    for line in fh:\n",
    "        process_line(line)\n",
    "```\n",
    "* To read the entire file into a string, use the read method:\n",
    "```\n",
    "with open(path) as fh:\n",
    "    s = fh.read()\n",
    "```\n",
    "However, you should be careful when reading an entire file into memory that the file isn't too big! *You should avoid this whenever possible!*\n",
    "\n",
    "**Question 5 (Reading Files):**\n",
    "\n",
    "Create a function `last_chars` that takes a file object and returns a string consisting of the last character of the line.\n",
    "\n",
    "*Remark:* A newline is the \"delimiter\" of the lines of a file, and doesn't count as part of the line (as the tests imply). Every other character is part of the line. For more info on this, see [the interpretation](https://en.wikipedia.org/wiki/Newline#Interpretation) of files as a 'newline delimited variables' file.\n",
    "\n"
   ]
  },
  {
   "cell_type": "code",
   "execution_count": 175,
   "metadata": {},
   "outputs": [],
   "source": [
    "def last_chars(fh):\n",
    "    \"\"\"\n",
    "    last_chars takes a file object and returns a \n",
    "    string consisting of the last character of the line.\n",
    "\n",
    "    :param fh: a file object to read from.\n",
    "    :returns: a string of last characters from fh\n",
    "\n",
    "    :Example:\n",
    "    >>> fp = os.path.join('data', 'chars.txt')\n",
    "    >>> last_chars(open(fp))\n",
    "    'hrg'\n",
    "    \"\"\"\n",
    "    txt = ''\n",
    "    \n",
    "    with fh as fg:\n",
    "        for line in fg:\n",
    "            last = line[-2]\n",
    "            txt = txt + last\n",
    "    \n",
    "    return txt"
   ]
  },
  {
   "cell_type": "code",
   "execution_count": 176,
   "metadata": {},
   "outputs": [
    {
     "name": "stdout",
     "output_type": "stream",
     "text": [
      "On a branch\n",
      "\n",
      "\n",
      "\n",
      "floating downriver\n",
      "\n",
      "\n",
      "\n",
      "a cricket, singing\n",
      "\n",
      "\n",
      "\n"
     ]
    },
    {
     "data": {
      "text/plain": [
       "'hrg'"
      ]
     },
     "execution_count": 176,
     "metadata": {},
     "output_type": "execute_result"
    }
   ],
   "source": [
    "fp = os.path.join('data', 'chars.txt')\n",
    "last_chars(open(fp))\n"
   ]
  },
  {
   "cell_type": "code",
   "execution_count": null,
   "metadata": {},
   "outputs": [],
   "source": []
  },
  {
   "cell_type": "markdown",
   "metadata": {},
   "source": [
    "---\n",
    "\n",
    "## `numpy` exercises\n",
    "\n",
    "For an introduction to arrays and `numpy` recall the relevant section of [DSC 10](https://www.inferentialthinking.com/chapters/05/1/Arrays.html)."
   ]
  },
  {
   "cell_type": "markdown",
   "metadata": {},
   "source": [
    "**Question 6 (Basic Arrays):**\n",
    "\n",
    "Create the following functions using `numpy` methods satisfying the requirements given in each part. Your solutions should **not** contain any loops or list comprehensions.\n",
    "\n",
    "* A function `arr_1` that takes in a `numpy` array and adds to each element the square-root of the index of each element.\n",
    "\n",
    "* A function `arr_2` that takes in a `numpy` array of integers and returns a boolean array (i.e. an array of booleans) whose `ith` element is `True` if and only if the `ith` element of the input array is divisble by 16.\n",
    "\n",
    "* A function `arr_3` that takes in a `numpy` array of [stock prices](https://en.wikipedia.org/wiki/Stock) per share on successive days in USD and returns an array of growth rates. That is, the `ith` number of the output array should contain the rate of growth in stock price between the $i^{th}$ day to the $(i+1)^{th}$ day. The growth rate should be a proportion, rounded to the nearest hundredth.\n",
    "\n",
    "* Suppose:\n",
    "    - `A` is a `numpy` array of [stock prices](https://en.wikipedia.org/wiki/Stock) per share for a company on successive days in USD \n",
    "    - you start with \\\\$20, and put aside \\\\$20 at the end of each day to buy as much stock as possible the following day. \n",
    "    - Any money left-over after a given day is saved for possibly buying stock on a future day. \n",
    "    - Create a function `arr_4` that takes in `A` and returns the day on which you can buy at least one share from 'left-over' money. If this never happens, return `-1`. The first stock purchase occurs on day 0. *Note: you cannot buy fractions of a share of stock*.\n",
    "    \n",
    "*Example:* If the stock price is \\\\$3 every day, then the answer is 'day 1':\n",
    "* day 0: buy 6 shares; \\\\$2 left-over; \\\\$22 at end of day.\n",
    "* day 1: buy 7 shares; \\\\$1 left-over; \\\\$21 at end of day.\n",
    "This is more than the 6 shares that \\\\$20 can buy."
   ]
  },
  {
   "cell_type": "code",
   "execution_count": 26,
   "metadata": {},
   "outputs": [],
   "source": [
    "fp = os.path.join('data', 'stocks.csv')\n",
    "stocks = np.array([float(x) for x in open(fp)])"
   ]
  },
  {
   "cell_type": "code",
   "execution_count": 27,
   "metadata": {},
   "outputs": [],
   "source": [
    "def arr_1(A):\n",
    "    \"\"\"\n",
    "    arr_1 takes in a numpy array and\n",
    "    adds to each element the square-root of\n",
    "    the index of each element.\n",
    "\n",
    "    :param A: a 1d numpy array.\n",
    "    :returns: a 1d numpy array.\n",
    "\n",
    "    :Example:\n",
    "    >>> A = np.array([2, 4, 6, 7])\n",
    "    >>> out = arr_1(A)\n",
    "    >>> isinstance(out, np.ndarray)\n",
    "    True\n",
    "    >>> np.all(out >= A)\n",
    "    True\n",
    "    \"\"\"\n",
    "\n",
    "    size = len(A)\n",
    "    B = np.arange(size)\n",
    "    B = B**0.5\n",
    "    \n",
    "    with_sqrt = A + B\n",
    "    \n",
    "    return with_sqrt"
   ]
  },
  {
   "cell_type": "code",
   "execution_count": 28,
   "metadata": {},
   "outputs": [
    {
     "name": "stdout",
     "output_type": "stream",
     "text": [
      "[0 1 2 3]\n"
     ]
    },
    {
     "data": {
      "text/plain": [
       "array([0.        , 1.        , 1.41421356, 1.73205081])"
      ]
     },
     "execution_count": 28,
     "metadata": {},
     "output_type": "execute_result"
    }
   ],
   "source": [
    "arr = np.array([2, 4, 6, 7])\n",
    "len(arr)\n",
    "b = np.arange(4)\n",
    "print(b)\n",
    "b**0.5"
   ]
  },
  {
   "cell_type": "code",
   "execution_count": 29,
   "metadata": {},
   "outputs": [
    {
     "data": {
      "text/plain": [
       "array([2.        , 5.        , 7.41421356, 8.73205081])"
      ]
     },
     "execution_count": 29,
     "metadata": {},
     "output_type": "execute_result"
    }
   ],
   "source": [
    "A = np.array([2, 4, 6, 7])\n",
    "out = arr_1(A)\n",
    "#isinstance(out, np.ndarray)\n",
    "out\n",
    "#np.all(out >= A)"
   ]
  },
  {
   "cell_type": "code",
   "execution_count": 30,
   "metadata": {},
   "outputs": [],
   "source": [
    "def arr_2(A):\n",
    "    \"\"\"\n",
    "    arr_2 takes in a numpy array of integers\n",
    "    and returns a boolean array (i.e. an array of booleans)\n",
    "    whose ith element is True if and only if the ith element\n",
    "    of the input array is divisble by 16.\n",
    "\n",
    "    :param A: a 1d numpy array.\n",
    "    :returns: a 1d numpy boolean array.\n",
    "\n",
    "    :Example:\n",
    "    >>> out = arr_2(np.array([1, 2, 16, 17, 32, 33]))\n",
    "    >>> isinstance(out, np.ndarray)\n",
    "    True\n",
    "    >>> out.dtype == np.dtype('bool')\n",
    "    True\n",
    "    \"\"\"    \n",
    "\n",
    "    return A % 16 == 0"
   ]
  },
  {
   "cell_type": "code",
   "execution_count": 31,
   "metadata": {},
   "outputs": [
    {
     "data": {
      "text/plain": [
       "True"
      ]
     },
     "execution_count": 31,
     "metadata": {},
     "output_type": "execute_result"
    }
   ],
   "source": [
    "out = arr_2(np.array([1, 2, 16, 17, 32, 33, 0]))\n",
    "#isinstance(out, np.ndarray)\n",
    "out.dtype == np.dtype('bool')"
   ]
  },
  {
   "cell_type": "code",
   "execution_count": 32,
   "metadata": {},
   "outputs": [],
   "source": [
    "def arr_3(A):\n",
    "    \"\"\"\n",
    "    arr_3 takes in a numpy array of stock\n",
    "    prices per share on successive days in\n",
    "    USD and returns an array of growth rates.\n",
    "\n",
    "    :param A: a 1d numpy array.\n",
    "    :returns: a 1d numpy array.\n",
    "\n",
    "    :Example:\n",
    "    >>> fp = os.path.join('data', 'stocks.csv')\n",
    "    >>> stocks = np.array([float(x) for x in open(fp)])\n",
    "    >>> out = arr_3(stocks)\n",
    "    >>> isinstance(out, np.ndarray)\n",
    "    True\n",
    "    >>> out.dtype == np.dtype('float')\n",
    "    True\n",
    "    >>> out.max() == 0.03\n",
    "    True\n",
    "    \"\"\"\n",
    "    B = A[0:-1]\n",
    "    C = A[1:]\n",
    "    growth = (C - B) / B\n",
    "    growth = np.round(growth, 2)\n",
    "\n",
    "    return growth"
   ]
  },
  {
   "cell_type": "code",
   "execution_count": 33,
   "metadata": {},
   "outputs": [],
   "source": [
    "A = np.array([7, 8, 9, 10, 11])\n"
   ]
  },
  {
   "cell_type": "code",
   "execution_count": 34,
   "metadata": {},
   "outputs": [
    {
     "data": {
      "text/plain": [
       "True"
      ]
     },
     "execution_count": 34,
     "metadata": {},
     "output_type": "execute_result"
    }
   ],
   "source": [
    "fp = os.path.join('data', 'stocks.csv')\n",
    "stocks = np.array([float(x) for x in open(fp)])\n",
    "out = arr_3(stocks)\n",
    "isinstance(out, np.ndarray)\n",
    "out.dtype == np.dtype('float')\n",
    "out.max() == 0.03"
   ]
  },
  {
   "cell_type": "code",
   "execution_count": 35,
   "metadata": {},
   "outputs": [],
   "source": [
    "def arr_4(A):\n",
    "    \"\"\"\n",
    "    Create a function arr_4 that takes in A and \n",
    "    returns the day on which you can buy at least \n",
    "    one share from 'left-over' money. If this never \n",
    "    happens, return -1. The first stock purchase occurs on day 0\n",
    "    :param A: a 1d numpy array of stock prices.\n",
    "    :returns: an integer of the total number of shares.\n",
    "\n",
    "    :Example:\n",
    "    >>> import numbers\n",
    "    >>> stocks = np.array([3, 3, 3, 3])\n",
    "    >>> out = arr_4(stocks)\n",
    "    >>> isinstance(out, numbers.Integral)\n",
    "    True\n",
    "    >>> out == 1\n",
    "    True\n",
    "    \"\"\"\n",
    "    twenty = 20\n",
    "    shares = twenty // A\n",
    "    spent = shares * A\n",
    "    leftover = twenty - spent\n",
    "    running_leftover = leftover.cumsum()\n",
    "    when_to_purchase = running_leftover > A\n",
    "    days = np.where(when_to_purchase == True)\n",
    "    if days[0].size == 0:\n",
    "        return -1\n",
    "    day_to_purchase = min(min(days))\n",
    "\n",
    "    return day_to_purchase"
   ]
  },
  {
   "cell_type": "code",
   "execution_count": 36,
   "metadata": {},
   "outputs": [
    {
     "data": {
      "text/plain": [
       "1"
      ]
     },
     "execution_count": 36,
     "metadata": {},
     "output_type": "execute_result"
    }
   ],
   "source": [
    "A = np.array([3, 3, 3, 3])\n",
    "twenty = 20\n",
    "shares = twenty // A\n",
    "spent = shares * A\n",
    "leftover = twenty - spent\n",
    "running_leftover = leftover.cumsum()\n",
    "when = running_leftover > A\n",
    "days = np.where(when == True)\n",
    "min(min(days))"
   ]
  },
  {
   "cell_type": "code",
   "execution_count": 37,
   "metadata": {},
   "outputs": [
    {
     "data": {
      "text/plain": [
       "array([ True, False, False])"
      ]
     },
     "execution_count": 37,
     "metadata": {},
     "output_type": "execute_result"
    }
   ],
   "source": [
    "import numbers\n",
    "stocks = np.array([3, 3, 3, 3])\n",
    "out = arr_4(stocks)\n",
    "isinstance(out, numbers.Integral)\n",
    "out == 1"
   ]
  },
  {
   "cell_type": "markdown",
   "metadata": {},
   "source": [
    "---\n",
    "## Getting Started with Pandas\n",
    "\n",
    "The following questions will help you get comfortable with Pandas. These questions are similar to questions on tables in DSC 10; review the [textbook](https://www.inferentialthinking.com) as necessary. As always for Pandas questions:\n",
    "1. Avoid writing loops through the rows of the dataset to do the problem, and\n",
    "2. Test the output/correctness of your code with the help of the dataset given, but be sure your code will also run on data \"like\" the dataset given (sampling rows using the `.sample` method is useful for this!).\n",
    "\n",
    "**Question 7 (Pandas basics):**\n",
    "\n",
    "Read in the file `movies_by_year.csv` in the `data` directory and understand the dataset by answering the following questions. To do this, create a function `movie_stats` that takes in a dataframe like `movies` and returns a series containing the following statistics:\n",
    "* The number of years covered by the dataset (`num_years`).\n",
    "* The total number of movies made over all years in the dataset (`tot_movies`).\n",
    "* The year with the fewest number of movies made; a tie should return the earliest year (`yr_fewest_movies`).\n",
    "* The average amount of money grossed over all the years in the dataset (`avg_gross`).\n",
    "* The year with the highest gross *per movie* (`highest_per_movie`).\n",
    "* The name of the top movie during the second-lowest (total) grossing year (`second_lowest`).\n",
    "* The average number of movies made the year *after* a Harry Potter movie was the #1 movie (`avg_after_harry`).\n",
    "\n",
    "The index of the output series are given in parenthesis above.\n",
    "\n",
    "*Note*: Your function should work on a dataset of the same format that contains information from other years. You may assume that none of the answers involving ranking returns a tie.\n",
    "\n",
    "*Note*: To make sure your function still runs, in the event that one of the 7 parts throws an exception (e.g. due to a very incorrect answer), use `Try... Except...` structures."
   ]
  },
  {
   "cell_type": "code",
   "execution_count": 40,
   "metadata": {},
   "outputs": [
    {
     "data": {
      "text/html": [
       "<div>\n",
       "<style scoped>\n",
       "    .dataframe tbody tr th:only-of-type {\n",
       "        vertical-align: middle;\n",
       "    }\n",
       "\n",
       "    .dataframe tbody tr th {\n",
       "        vertical-align: top;\n",
       "    }\n",
       "\n",
       "    .dataframe thead th {\n",
       "        text-align: right;\n",
       "    }\n",
       "</style>\n",
       "<table border=\"1\" class=\"dataframe\">\n",
       "  <thead>\n",
       "    <tr style=\"text-align: right;\">\n",
       "      <th></th>\n",
       "      <th>Year</th>\n",
       "      <th>Total Gross</th>\n",
       "      <th>Number of Movies</th>\n",
       "      <th>#1 Movie</th>\n",
       "    </tr>\n",
       "  </thead>\n",
       "  <tbody>\n",
       "    <tr>\n",
       "      <th>0</th>\n",
       "      <td>2015</td>\n",
       "      <td>11128.5</td>\n",
       "      <td>702</td>\n",
       "      <td>Star Wars: The Force Awakens</td>\n",
       "    </tr>\n",
       "    <tr>\n",
       "      <th>1</th>\n",
       "      <td>2014</td>\n",
       "      <td>10360.8</td>\n",
       "      <td>702</td>\n",
       "      <td>American Sniper</td>\n",
       "    </tr>\n",
       "    <tr>\n",
       "      <th>2</th>\n",
       "      <td>2013</td>\n",
       "      <td>10923.6</td>\n",
       "      <td>688</td>\n",
       "      <td>Catching Fire</td>\n",
       "    </tr>\n",
       "    <tr>\n",
       "      <th>3</th>\n",
       "      <td>2012</td>\n",
       "      <td>10837.4</td>\n",
       "      <td>667</td>\n",
       "      <td>The Avengers</td>\n",
       "    </tr>\n",
       "    <tr>\n",
       "      <th>4</th>\n",
       "      <td>2011</td>\n",
       "      <td>10174.3</td>\n",
       "      <td>602</td>\n",
       "      <td>Harry Potter / Deathly Hallows (P2)</td>\n",
       "    </tr>\n",
       "  </tbody>\n",
       "</table>\n",
       "</div>"
      ],
      "text/plain": [
       "   Year  Total Gross  Number of Movies                             #1 Movie\n",
       "0  2015      11128.5               702         Star Wars: The Force Awakens\n",
       "1  2014      10360.8               702                      American Sniper\n",
       "2  2013      10923.6               688                        Catching Fire\n",
       "3  2012      10837.4               667                         The Avengers\n",
       "4  2011      10174.3               602  Harry Potter / Deathly Hallows (P2)"
      ]
     },
     "execution_count": 40,
     "metadata": {},
     "output_type": "execute_result"
    }
   ],
   "source": [
    "movie_fp = os.path.join('data', 'movies_by_year.csv')\n",
    "movies = pd.read_csv(movie_fp)\n",
    "movies.head()"
   ]
  },
  {
   "cell_type": "code",
   "execution_count": 93,
   "metadata": {},
   "outputs": [],
   "source": [
    "def movie_stats(movies):\n",
    "    \"\"\"\n",
    "    movies_stats returns a series as specified in the notebook.\n",
    "\n",
    "    :param movies: a dataframe of summaries of\n",
    "    movies per year as found in `movies_by_year.csv`\n",
    "    :return: a series with index specified in the notebook.\n",
    "\n",
    "    :Example:\n",
    "    >>> movie_fp = os.path.join('data', 'movies_by_year.csv')\n",
    "    >>> movies = pd.read_csv(movie_fp)\n",
    "    >>> out = movie_stats(movies)\n",
    "    >>> isinstance(out, pd.Series)\n",
    "    True\n",
    "    >>> 'num_years' in out.index\n",
    "    True\n",
    "    >>> isinstance(out.loc['second_lowest'], str)\n",
    "    True\n",
    "    \"\"\"\n",
    "    out_dict = {}\n",
    "    \n",
    "    try:\n",
    "        min_year = movies['Year'].min()\n",
    "        max_year = movies['Year'].max()\n",
    "        num_years = max_year - min_year\n",
    "        out_dict.update(num_years = num_years)\n",
    "    except:\n",
    "        out_dict = out_dict\n",
    "        \n",
    "    try: \n",
    "        tot_movies = movies['Number of Movies']\n",
    "        out_dict.update(tot_movies = tot_movies)\n",
    "    except:\n",
    "        out_dict = out_dict\n",
    "    \n",
    "    try: \n",
    "        least_mov = movies[movies['Number of Movies'] == movies['Number of Movies'].min()]\n",
    "        yr_fewest_movies = least_mov['Year'].min()\n",
    "        out_dict.update(yr_fewest_movies = yr_fewest_movies)\n",
    "    except:\n",
    "        out_dict = out_dict\n",
    "    \n",
    "    try:\n",
    "        avg_gross = movies['Total Gross'].mean()\n",
    "        out_dict.update(avg_gross = avg_gross)\n",
    "    except:\n",
    "        out_dict = out_dict\n",
    "        \n",
    "    try:\n",
    "        highest_gross = movies[movies['Total Gross'] == movies['Total Gross'].max()]\n",
    "        highest_per_movie = highest_gross['Year'].min()\n",
    "        out_dict.update(highest_per_movie = highest_per_movie)\n",
    "    except:\n",
    "        out_dict = out_dict\n",
    "\n",
    "    try:\n",
    "        by_gross = movies.sort_values('Total Gross').reset_index()\n",
    "        second_lowest = by_gross['#1 Movie'][1]\n",
    "        out_dict.update(second_lowest = second_lowest)\n",
    "    except:\n",
    "        out_dict = out_dict\n",
    "    \n",
    "    try:\n",
    "        harry = movies[movies['#1 Movie'].str.contains('Harry Potter')]\n",
    "        harry_years = harry['Year']\n",
    "        year_after_harry = harry_years + 1\n",
    "        year_after_harry = year_after_harry.tolist()\n",
    "        movies_after_harry = movies[movies['Year'].isin(year_after_harry)]\n",
    "        avg_after_harry = movies_after_harry['Number of Movies'].mean()\n",
    "        out_dict.update(avg_after_harry = avg_after_harry)\n",
    "    except:\n",
    "        out_dict = out_dict\n",
    "\n",
    "    return pd.Series(out_dict)"
   ]
  },
  {
   "cell_type": "code",
   "execution_count": 97,
   "metadata": {},
   "outputs": [
    {
     "data": {
      "text/plain": [
       "True"
      ]
     },
     "execution_count": 97,
     "metadata": {},
     "output_type": "execute_result"
    }
   ],
   "source": [
    "movie_fp = os.path.join('data', 'movies_by_year.csv')\n",
    "movies = pd.read_csv(movie_fp)\n",
    "out = movie_stats(movies)\n",
    "#isinstance(out, pd.Series)\n",
    "#'num_years' in out.index\n",
    "#isinstance(out.loc['second_lowest'], str)"
   ]
  },
  {
   "cell_type": "code",
   "execution_count": 88,
   "metadata": {},
   "outputs": [
    {
     "data": {
      "text/plain": [
       "{'num_years': 33}"
      ]
     },
     "execution_count": 88,
     "metadata": {},
     "output_type": "execute_result"
    }
   ],
   "source": [
    "r_dict = {}\n",
    "min_year = movies['Year'].min()\n",
    "max_year = movies['Year'].max()\n",
    "num_years = max_year - min_year\n",
    "num_years\n",
    "r_dict.update(num_years = num_years)\n",
    "r_dict"
   ]
  },
  {
   "cell_type": "code",
   "execution_count": 44,
   "metadata": {},
   "outputs": [
    {
     "data": {
      "text/plain": [
       "17834"
      ]
     },
     "execution_count": 44,
     "metadata": {},
     "output_type": "execute_result"
    }
   ],
   "source": [
    "tot_movies = movies['Number of Movies'].sum()\n",
    "tot_movies"
   ]
  },
  {
   "cell_type": "code",
   "execution_count": 47,
   "metadata": {},
   "outputs": [
    {
     "data": {
      "text/plain": [
       "1990"
      ]
     },
     "execution_count": 47,
     "metadata": {},
     "output_type": "execute_result"
    }
   ],
   "source": [
    "least_mov = movies[movies['Number of Movies'] == movies['Number of Movies'].min()]\n",
    "yr_fewest_movies = least_mov['Year'].min()\n",
    "yr_fewest_movies"
   ]
  },
  {
   "cell_type": "code",
   "execution_count": 49,
   "metadata": {},
   "outputs": [
    {
     "data": {
      "text/plain": [
       "7226.914705882354"
      ]
     },
     "execution_count": 49,
     "metadata": {},
     "output_type": "execute_result"
    }
   ],
   "source": [
    "avg_gross = movies['Total Gross'].mean()\n",
    "avg_gross"
   ]
  },
  {
   "cell_type": "code",
   "execution_count": 51,
   "metadata": {},
   "outputs": [
    {
     "data": {
      "text/plain": [
       "2015"
      ]
     },
     "execution_count": 51,
     "metadata": {},
     "output_type": "execute_result"
    }
   ],
   "source": [
    "highest_gross = movies[movies['Total Gross'] == movies['Total Gross'].max()]\n",
    "highest_per_movie = highest_gross['Year'].min()\n",
    "highest_per_movie"
   ]
  },
  {
   "cell_type": "code",
   "execution_count": 63,
   "metadata": {},
   "outputs": [
    {
     "data": {
      "text/plain": [
       "'Back to the Future'"
      ]
     },
     "execution_count": 63,
     "metadata": {},
     "output_type": "execute_result"
    }
   ],
   "source": [
    "by_gross = movies.sort_values('Total Gross').reset_index()\n",
    "#by_gross.head()\n",
    "second_lowest = by_gross['#1 Movie'][1]\n",
    "second_lowest"
   ]
  },
  {
   "cell_type": "code",
   "execution_count": 78,
   "metadata": {},
   "outputs": [
    {
     "data": {
      "text/plain": [
       "573.0"
      ]
     },
     "execution_count": 78,
     "metadata": {},
     "output_type": "execute_result"
    }
   ],
   "source": [
    "harry = movies[movies['#1 Movie'].str.contains('Harry Potter')]\n",
    "harry_years = harry['Year']\n",
    "harry_years\n",
    "year_after_harry = harry_years + 1\n",
    "year_after_harry = year_after_harry.tolist()\n",
    "movies_after_harry = movies[movies['Year'].isin(year_after_harry)]\n",
    "movies_after_harry\n",
    "avg_after_harry = movies_after_harry['Number of Movies'].mean()\n",
    "avg_after_harry"
   ]
  },
  {
   "cell_type": "markdown",
   "metadata": {},
   "source": [
    "---\n",
    "\n",
    "## CSV Files\n",
    "\n",
    "**Question 8 (Reading malformed csv files):**\n",
    "\n",
    "`malformed.csv` contains a file of comma-separated values, containing the following fields:\n",
    "\n",
    "\n",
    "|column name|description|type|\n",
    "|---|---|---|\n",
    "|first|first name of person|str|\n",
    "|last|last name of person|str|\n",
    "|weight|weight of person (lbs)|float|\n",
    "|height|height of person (in)|float|\n",
    "|geo|location of person; comma-separated latitude/longitude|str|\n",
    "\n",
    "Unfortunately, the entries contains errors that cause the Pandas `read_csv` function to fail parsing the file with the default settings. Instead, you must read in the file manually using Python's built-in `open` function.\n",
    "\n",
    "Clean the csv file into a Pandas DataFrame with columns as described in the table above, by creating a function called `parse_malformed` that takes in a file path and returns a parsed, properly-typed dataframe. The dataframe should contain columns as described in the table above (with the specified types); it should agree with `pd.read_csv` when the lines are not malformed.\n",
    "\n",
    "\n",
    "*Note:* Assume that the given csv file is a sample of a larger file; you will be graded against a **different** sample of the larger file that has the same type of parsing errors. That is, you should **not** hard-code your cleaning of the data to specific errors on specific lines in the data."
   ]
  },
  {
   "cell_type": "code",
   "execution_count": 170,
   "metadata": {},
   "outputs": [],
   "source": [
    "def parse_malformed(fp):\n",
    "    \"\"\"\n",
    "    Parses and loads the malformed csv data into a \n",
    "    properly formatted dataframe (as described in \n",
    "    the question).\n",
    "\n",
    "    :param fh: file handle for the malformed csv-file.\n",
    "    :returns: a Pandas DataFrame of the data, \n",
    "    as specificed in the question statement.\n",
    "\n",
    "    :Example:\n",
    "    >>> fp = os.path.join('data', 'malformed.csv')\n",
    "    >>> df = parse_malformed(fp)\n",
    "    >>> cols = ['first', 'last', 'weight', 'height', 'geo']\n",
    "    >>> list(df.columns) == cols\n",
    "    True\n",
    "    >>> df['last'].dtype == np.dtype('O')\n",
    "    True\n",
    "    >>> df['height'].dtype == np.dtype('float64')\n",
    "    True\n",
    "    >>> df['geo'].str.contains(',').all()\n",
    "    True\n",
    "    >>> len(df) == 100\n",
    "    True\n",
    "    >>> dg = pd.read_csv(fp, nrows=4, skiprows=10, names=cols)\n",
    "    >>> dg.index = range(9, 13)\n",
    "    >>> (dg == df.iloc[9:13]).all().all()\n",
    "    True\n",
    "    \"\"\"\n",
    "    rows = []\n",
    "    with open(fp) as fl:\n",
    "        cols = fl.readline().strip()\n",
    "        cols = cols.split(',')\n",
    "        for line in fl:\n",
    "            word = line.replace('\"', '') # take out \" in the geo locations\n",
    "            word = word.strip()\n",
    "            entry = word.split(',')\n",
    "\n",
    "            # there are some null (empty) values in the data so take them out\n",
    "            if '' in entry:\n",
    "                entry = ' '.join(entry).split()\n",
    "\n",
    "\n",
    "            # put the geo location together and have it at the end of the list\n",
    "            geo = entry[-2] + ',' + entry[-1]\n",
    "            entry = entry[:-2]\n",
    "            entry.append(geo)\n",
    "\n",
    "            # add all entries to the row list\n",
    "            rows.append(entry)\n",
    "\n",
    "        # close file to make sure there is no memory leak\n",
    "        fl.close()\n",
    "\n",
    "        # create the data frame and set data types\n",
    "        df = pd.DataFrame(rows, columns = cols)\n",
    "        df['first'] = df['first'].astype(str)\n",
    "        df['last'] = df['last'].astype(str)\n",
    "        df['weight'] = df['weight'].astype(np.float64)\n",
    "        df['height'] = df['height'].astype(np.float64)\n",
    "        df['geo'] = df['geo'].astype(str)\n",
    "\n",
    "    return df\n"
   ]
  },
  {
   "cell_type": "code",
   "execution_count": 171,
   "metadata": {},
   "outputs": [
    {
     "data": {
      "text/plain": [
       "True"
      ]
     },
     "execution_count": 171,
     "metadata": {},
     "output_type": "execute_result"
    }
   ],
   "source": [
    "fp = os.path.join('data', 'malformed.csv')\n",
    "df = parse_malformed(fp)\n",
    "cols = ['first', 'last', 'weight', 'height', 'geo']\n",
    "list(df.columns) == cols\n",
    "df['last'].dtype == np.dtype('O')\n",
    "df['height'].dtype == np.dtype('float64')\n",
    "df['geo'].str.contains(',').all()\n",
    "len(df) == 100\n",
    "dg = pd.read_csv(fp, nrows=4, skiprows=10, names=cols)\n",
    "dg.index = range(9, 13)\n",
    "(dg == df.iloc[9:13]).all().all()"
   ]
  },
  {
   "cell_type": "code",
   "execution_count": null,
   "metadata": {},
   "outputs": [],
   "source": []
  },
  {
   "cell_type": "code",
   "execution_count": 151,
   "metadata": {},
   "outputs": [
    {
     "name": "stdout",
     "output_type": "stream",
     "text": [
      "['first', 'last', 'weight', 'height', 'geo']\n",
      "first      object\n",
      "last       object\n",
      "weight    float64\n",
      "height    float64\n",
      "geo        object\n",
      "dtype: object\n"
     ]
    }
   ],
   "source": [
    "fp = os.path.join('data', 'malformed.csv')\n",
    "rows = []\n",
    "with open(fp) as fl:\n",
    "    cols = fl.readline().strip()\n",
    "    cols = cols.split(',')\n",
    "    print(cols)\n",
    "    for line in fl:\n",
    "        word = line.replace('\"', '') # take out \" in the geo locations\n",
    "        word = word.strip()\n",
    "        entry = word.split(',')\n",
    "        # print(entry)\n",
    "        \n",
    "        # there are some null (empty) values in the data so take them out\n",
    "        empty = ' '\n",
    "        if '' in entry:\n",
    "            entry = ' '.join(entry).split()\n",
    "            \n",
    "        \n",
    "        # put the geo location together and have it at the end of the list\n",
    "        geo = entry[-2] + ', ' + entry[-1]\n",
    "        entry = entry[:-2]\n",
    "        entry.append(geo)\n",
    "        #print(entry)\n",
    "    \n",
    "        \n",
    "        # add all entries to the row list\n",
    "        rows.append(entry)\n",
    "        \n",
    "    # close file to make sure there is no memory leak\n",
    "    fl.close()\n",
    "    \n",
    "    #print(rows)\n",
    "    \n",
    "    # create the data frame\n",
    "    df = pd.DataFrame(rows, columns = cols)\n",
    "    df['first'] = df['first'].astype(str)\n",
    "    df['last'] = df['last'].astype(str)\n",
    "    df['weight'] = df['weight'].astype(np.float64)\n",
    "    df['height'] = df['height'].astype(np.float64)\n",
    "    df['geo'] = df['geo'].astype(str)\n",
    "    \n",
    "    print(df.dtypes)\n",
    "    \n",
    "    \n",
    "\n",
    "        "
   ]
  },
  {
   "cell_type": "code",
   "execution_count": 145,
   "metadata": {},
   "outputs": [
    {
     "name": "stdout",
     "output_type": "stream",
     "text": [
      "['Anthony', 'Janaysia', '127.0', '', '77.0', '39.1, 93.6']\n",
      "['Anthony', 'Janaysia', '127.0', '', '77.0', '39.1, 93.6']\n",
      "Anthony Janaysia 127.0  77.0 39.1, 93.6\n"
     ]
    }
   ],
   "source": [
    "a1 = ['Anthony', 'Janaysia', '127.0', '', '77.0', '39.1, 93.6']\n",
    "print(a1)\n",
    "if '' in a1:\n",
    "    print(a1)\n",
    "    a1 = ' '.join(a1)\n",
    "    print(a1)\n",
    "    a1 = a1.split()\n"
   ]
  },
  {
   "cell_type": "markdown",
   "metadata": {},
   "source": [
    "## Congratulations! You're done!\n",
    "\n",
    "* Submit the lab on Gradescope"
   ]
  },
  {
   "cell_type": "code",
   "execution_count": null,
   "metadata": {},
   "outputs": [],
   "source": []
  }
 ],
 "metadata": {
  "kernel_info": {
   "name": "python3"
  },
  "kernelspec": {
   "display_name": "Python 3",
   "language": "python",
   "name": "python3"
  },
  "language_info": {
   "codemirror_mode": {
    "name": "ipython",
    "version": 3
   },
   "file_extension": ".py",
   "mimetype": "text/x-python",
   "name": "python",
   "nbconvert_exporter": "python",
   "pygments_lexer": "ipython3",
   "version": "3.7.6"
  },
  "nteract": {
   "version": "0.15.0"
  }
 },
 "nbformat": 4,
 "nbformat_minor": 2
}
